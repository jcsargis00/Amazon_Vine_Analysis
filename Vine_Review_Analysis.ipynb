{
 "cells": [
  {
   "cell_type": "code",
   "execution_count": 22,
   "metadata": {
    "colab": {
     "base_uri": "https://localhost:8080/"
    },
    "id": "sE8VJLzE4yzc",
    "outputId": "7fb61889-9c3c-4529-d935-a8bb0cc7e4ad"
   },
   "outputs": [
    {
     "name": "stdout",
     "output_type": "stream",
     "text": [
      "\r",
      "0% [Working]\r",
      "            \r",
      "Hit:1 https://cloud.r-project.org/bin/linux/ubuntu bionic-cran40/ InRelease\n",
      "\r",
      "0% [Connecting to archive.ubuntu.com (91.189.91.39)] [Connecting to security.ub\r",
      "                                                                               \r",
      "Ign:2 https://developer.download.nvidia.com/compute/cuda/repos/ubuntu1804/x86_64  InRelease\n",
      "\r",
      "0% [Connecting to archive.ubuntu.com (91.189.91.39)] [Connecting to security.ub\r",
      "0% [1 InRelease gpgv 3,626 B] [Connecting to archive.ubuntu.com (91.189.91.39)]\r",
      "                                                                               \r",
      "Ign:3 https://developer.download.nvidia.com/compute/machine-learning/repos/ubuntu1804/x86_64  InRelease\n",
      "\r",
      "0% [1 InRelease gpgv 3,626 B] [Connecting to archive.ubuntu.com (91.189.91.39)]\r",
      "                                                                               \r",
      "Hit:4 https://developer.download.nvidia.com/compute/cuda/repos/ubuntu1804/x86_64  Release\n",
      "Hit:5 https://developer.download.nvidia.com/compute/machine-learning/repos/ubuntu1804/x86_64  Release\n",
      "Hit:6 http://archive.ubuntu.com/ubuntu bionic InRelease\n",
      "Get:7 http://archive.ubuntu.com/ubuntu bionic-updates InRelease [88.7 kB]\n",
      "Get:8 http://security.ubuntu.com/ubuntu bionic-security InRelease [88.7 kB]\n",
      "Hit:9 http://ppa.launchpad.net/c2d4u.team/c2d4u4.0+/ubuntu bionic InRelease\n",
      "Get:10 http://archive.ubuntu.com/ubuntu bionic-backports InRelease [74.6 kB]\n",
      "Hit:11 http://ppa.launchpad.net/cran/libgit2/ubuntu bionic InRelease\n",
      "Hit:14 http://ppa.launchpad.net/deadsnakes/ppa/ubuntu bionic InRelease\n",
      "Hit:15 http://ppa.launchpad.net/graphics-drivers/ppa/ubuntu bionic InRelease\n",
      "Fetched 252 kB in 2s (108 kB/s)\n",
      "Reading package lists... Done\n"
     ]
    }
   ],
   "source": [
    "import os\n",
    "# Find the latest version of spark 3.0 from http://www.apache.org/dist/spark/ and enter as the spark version\n",
    "# For example:\n",
    "# spark_version = 'spark-3.0.3'\n",
    "spark_version = 'spark-3.0.3'\n",
    "os.environ['SPARK_VERSION']=spark_version\n",
    "\n",
    "# Install Spark and Java\n",
    "!apt-get update\n",
    "!apt-get install openjdk-11-jdk-headless -qq > /dev/null\n",
    "!wget -q http://www.apache.org/dist/spark/$SPARK_VERSION/$SPARK_VERSION-bin-hadoop2.7.tgz\n",
    "!tar xf $SPARK_VERSION-bin-hadoop2.7.tgz\n",
    "!pip install -q findspark\n",
    "\n",
    "# Set Environment Variables\n",
    "import os\n",
    "os.environ[\"JAVA_HOME\"] = \"/usr/lib/jvm/java-11-openjdk-amd64\"\n",
    "os.environ[\"SPARK_HOME\"] = f\"/content/{spark_version}-bin-hadoop2.7\"\n",
    "\n",
    "# Start a SparkSession\n",
    "import findspark\n",
    "findspark.init()"
   ]
  },
  {
   "cell_type": "code",
   "execution_count": 23,
   "metadata": {
    "colab": {
     "base_uri": "https://localhost:8080/"
    },
    "id": "w7dABhlS47AO",
    "outputId": "9988a89e-66c4-4ab5-f575-698435784525"
   },
   "outputs": [
    {
     "name": "stdout",
     "output_type": "stream",
     "text": [
      "--2022-04-20 01:58:19--  https://jdbc.postgresql.org/download/postgresql-42.2.16.jar\n",
      "Resolving jdbc.postgresql.org (jdbc.postgresql.org)... 72.32.157.228, 2001:4800:3e1:1::228\n",
      "Connecting to jdbc.postgresql.org (jdbc.postgresql.org)|72.32.157.228|:443... connected.\n",
      "HTTP request sent, awaiting response... 200 OK\n",
      "Length: 1002883 (979K) [application/java-archive]\n",
      "Saving to: ‘postgresql-42.2.16.jar.1’\n",
      "\n",
      "postgresql-42.2.16. 100%[===================>] 979.38K  4.93MB/s    in 0.2s    \n",
      "\n",
      "2022-04-20 01:58:19 (4.93 MB/s) - ‘postgresql-42.2.16.jar.1’ saved [1002883/1002883]\n",
      "\n"
     ]
    }
   ],
   "source": [
    "!wget https://jdbc.postgresql.org/download/postgresql-42.2.16.jar"
   ]
  },
  {
   "cell_type": "code",
   "execution_count": 24,
   "metadata": {
    "id": "08r22HM85C8q"
   },
   "outputs": [],
   "source": [
    "from pyspark.sql import SparkSession\n",
    "spark = SparkSession.builder.appName(\"M16-Amazon-Challenge\").config(\"spark.driver.extraClassPath\",\"/content/postgresql-42.2.16.jar\").getOrCreate()"
   ]
  },
  {
   "cell_type": "code",
   "execution_count": 27,
   "metadata": {
    "id": "S_3boXMO5JcX"
   },
   "outputs": [],
   "source": [
    "# Load Amazon Data into Spark Dataframe\n",
    "from pyspark import SparkFiles\n",
    "url =\"https://s3.amazonaws.com/amazon-reviews-pds/tsv/amazon_reviews_us_Electronics_v1_00.tsv.gz\"\n",
    "spark.sparkContext.addFile(url)\n",
    "df = spark.read.csv(SparkFiles.get(\"amazon_reviews_us_Electronics_v1_00.tsv.gz\"), sep=\"\\t\", header=True, inferSchema=True)"
   ]
  },
  {
   "cell_type": "code",
   "execution_count": 49,
   "metadata": {
    "colab": {
     "base_uri": "https://localhost:8080/"
    },
    "id": "RfxYjuIq1dZG",
    "outputId": "ff73dc3b-5a91-4d67-b8ce-961ac421266e"
   },
   "outputs": [
    {
     "name": "stdout",
     "output_type": "stream",
     "text": [
      "+--------------+-----------+-------------+-----------+----+-----------------+\n",
      "|     review_id|star_rating|helpful_votes|total_votes|vine|verified_purchase|\n",
      "+--------------+-----------+-------------+-----------+----+-----------------+\n",
      "|R1FBO737KD9F2N|          5|           19|         23|   N|                Y|\n",
      "|R227GSNWI6BSZV|          1|           20|         20|   N|                Y|\n",
      "|R3SJTYZBYBG4EE|          4|           99|         99|   N|                Y|\n",
      "|R248FG65D76D5Y|          1|           42|         53|   N|                Y|\n",
      "|R3B6BXFKGW52SG|          1|           32|         32|   N|                Y|\n",
      "| ROTIV4VYL31R4|          5|           26|         26|   N|                Y|\n",
      "|R3VQ59LD2LSKY7|          5|           20|         25|   N|                Y|\n",
      "| RIIGLD8JB7PX8|          1|           32|         35|   N|                Y|\n",
      "|R3MUBV21QV0IJK|          3|           77|         84|   N|                Y|\n",
      "|R1V5W0X6BKIJYA|          5|          129|        132|   N|                Y|\n",
      "|R274AKHXHYGIN6|          5|           87|        100|   N|                N|\n",
      "|R184FOUNZZ7KO8|          5|           15|         20|   Y|                N|\n",
      "| RVSZIYT9NB29U|          5|           22|         46|   N|                Y|\n",
      "|R1RDAOSARQUVFJ|          2|            6|         26|   N|                N|\n",
      "| R88RERIQDYDT5|          2|           17|         26|   N|                N|\n",
      "| RLYK7DY9F6RUP|          4|           17|         20|   N|                Y|\n",
      "|R3T31I7IKQ5LFQ|          3|           52|         55|   N|                Y|\n",
      "| RZETLPHZJFYB8|          5|           23|         24|   N|                Y|\n",
      "|R1BG5NL9AX68QE|          1|           23|         29|   N|                Y|\n",
      "|R1Y05HDL2AWCSA|          5|          140|        145|   N|                Y|\n",
      "+--------------+-----------+-------------+-----------+----+-----------------+\n",
      "only showing top 20 rows\n",
      "\n"
     ]
    }
   ],
   "source": [
    "# Step 1: Filter the data and create a new DataFrame or table to retrieve all the rows where the total_votes count is equal to or greater than 20\n",
    "from pyspark.sql.functions import col\n",
    "total_votes_df = vine_df.filter(col(\"total_votes\") >= 20)\n",
    "total_votes_df.show()"
   ]
  },
  {
   "cell_type": "code",
   "execution_count": 50,
   "metadata": {
    "colab": {
     "base_uri": "https://localhost:8080/"
    },
    "id": "IxG4Hn3S1ikK",
    "outputId": "56ad413b-4cde-4afc-a803-2556382d6dc5"
   },
   "outputs": [
    {
     "name": "stdout",
     "output_type": "stream",
     "text": [
      "+--------------+-----------+-------------+-----------+----+-----------------+------------------+\n",
      "|     review_id|star_rating|helpful_votes|total_votes|vine|verified_purchase|     percent_votes|\n",
      "+--------------+-----------+-------------+-----------+----+-----------------+------------------+\n",
      "|R1FBO737KD9F2N|          5|           19|         23|   N|                Y|0.8260869565217391|\n",
      "|R227GSNWI6BSZV|          1|           20|         20|   N|                Y|               1.0|\n",
      "|R3SJTYZBYBG4EE|          4|           99|         99|   N|                Y|               1.0|\n",
      "|R248FG65D76D5Y|          1|           42|         53|   N|                Y|0.7924528301886793|\n",
      "|R3B6BXFKGW52SG|          1|           32|         32|   N|                Y|               1.0|\n",
      "| ROTIV4VYL31R4|          5|           26|         26|   N|                Y|               1.0|\n",
      "|R3VQ59LD2LSKY7|          5|           20|         25|   N|                Y|               0.8|\n",
      "| RIIGLD8JB7PX8|          1|           32|         35|   N|                Y|0.9142857142857143|\n",
      "|R3MUBV21QV0IJK|          3|           77|         84|   N|                Y|0.9166666666666666|\n",
      "|R1V5W0X6BKIJYA|          5|          129|        132|   N|                Y|0.9772727272727273|\n",
      "|R274AKHXHYGIN6|          5|           87|        100|   N|                N|              0.87|\n",
      "|R184FOUNZZ7KO8|          5|           15|         20|   Y|                N|              0.75|\n",
      "| R88RERIQDYDT5|          2|           17|         26|   N|                N|0.6538461538461539|\n",
      "| RLYK7DY9F6RUP|          4|           17|         20|   N|                Y|              0.85|\n",
      "|R3T31I7IKQ5LFQ|          3|           52|         55|   N|                Y|0.9454545454545454|\n",
      "| RZETLPHZJFYB8|          5|           23|         24|   N|                Y|0.9583333333333334|\n",
      "|R1BG5NL9AX68QE|          1|           23|         29|   N|                Y|0.7931034482758621|\n",
      "|R1Y05HDL2AWCSA|          5|          140|        145|   N|                Y|0.9655172413793104|\n",
      "|R20EPERDBI56K8|          1|           30|         37|   N|                Y|0.8108108108108109|\n",
      "| RPTN47ZNQBPWE|          5|           20|         24|   N|                Y|0.8333333333333334|\n",
      "+--------------+-----------+-------------+-----------+----+-----------------+------------------+\n",
      "only showing top 20 rows\n",
      "\n"
     ]
    }
   ],
   "source": [
    "# Step 2: Retrieve all the rows where the number of helpful_votes divided by total_votes is equal to or greater than 50%.\n",
    "percent_votes_df = total_votes_df.withColumn('percent_votes',col('helpful_votes')/col('total_votes')).alias('percent_votes').filter(col(\"percent_votes\") >= 0.5)\n",
    "percent_votes_df.show()"
   ]
  },
  {
   "cell_type": "code",
   "execution_count": 51,
   "metadata": {
    "colab": {
     "base_uri": "https://localhost:8080/"
    },
    "id": "_dFNQZLj2Fr0",
    "outputId": "97d62c0c-4599-4c03-f5a1-5d8e49691c04"
   },
   "outputs": [
    {
     "name": "stdout",
     "output_type": "stream",
     "text": [
      "+--------------+-----------+-------------+-----------+----+-----------------+------------------+\n",
      "|     review_id|star_rating|helpful_votes|total_votes|vine|verified_purchase|     percent_votes|\n",
      "+--------------+-----------+-------------+-----------+----+-----------------+------------------+\n",
      "|R184FOUNZZ7KO8|          5|           15|         20|   Y|                N|              0.75|\n",
      "| R82QWN2X2OCHB|          5|          176|        208|   Y|                N|0.8461538461538461|\n",
      "|R1UYHBYE6790BU|          5|           44|         53|   Y|                N|0.8301886792452831|\n",
      "|R2J3YLX1L4EH2B|          5|          299|        321|   Y|                N|0.9314641744548287|\n",
      "|R3QDI539WTXKE2|          5|           26|         32|   Y|                N|            0.8125|\n",
      "| RQTPWY6ND2NRV|          4|           37|         37|   Y|                N|               1.0|\n",
      "| RQZSTE0KOBY2G|          4|           98|        109|   Y|                N|0.8990825688073395|\n",
      "| RF2RNZEJO0K1N|          4|           23|         26|   Y|                N|0.8846153846153846|\n",
      "| ROB6VOW41E8O5|          4|          155|        172|   Y|                N|0.9011627906976745|\n",
      "|R3ASMXPEPYY28T|          3|           11|         20|   Y|                N|              0.55|\n",
      "|R1PSDADBJRKB7N|          5|          215|        234|   Y|                N|0.9188034188034188|\n",
      "|R379PSH3FBB6CG|          5|           22|         26|   Y|                N|0.8461538461538461|\n",
      "| R4TBG0DR9Q3R2|          4|           27|         35|   Y|                N|0.7714285714285715|\n",
      "|R3LFHK362GJ77T|          4|           31|         33|   Y|                N|0.9393939393939394|\n",
      "|R1GB60TUTJB5HP|          5|           41|         45|   Y|                N|0.9111111111111111|\n",
      "|R2471U9VXGOMON|          4|          197|        206|   Y|                N|0.9563106796116505|\n",
      "|R24N1S9H53A8QR|          5|           64|         70|   Y|                N|0.9142857142857143|\n",
      "|R2S4BSWNHNX2GG|          5|           54|         61|   Y|                N|0.8852459016393442|\n",
      "|R36FG1XJKLAK36|          5|           23|         27|   Y|                N|0.8518518518518519|\n",
      "|R2ENZ835SOCA46|          4|           26|         30|   Y|                N|0.8666666666666667|\n",
      "+--------------+-----------+-------------+-----------+----+-----------------+------------------+\n",
      "only showing top 20 rows\n",
      "\n"
     ]
    }
   ],
   "source": [
    "# Step 3: Retrieves all the rows where a review was written as part of the Vine program (paid)\n",
    "paid_df = percent_votes_df.filter(col(\"vine\") == \"Y\").show()"
   ]
  },
  {
   "cell_type": "code",
   "execution_count": 52,
   "metadata": {
    "colab": {
     "base_uri": "https://localhost:8080/"
    },
    "id": "Lrt9ANha2NJi",
    "outputId": "b81dae5b-dfc0-4564-925a-8993e8faedce"
   },
   "outputs": [
    {
     "name": "stdout",
     "output_type": "stream",
     "text": [
      "+--------------+-----------+-------------+-----------+----+-----------------+------------------+\n",
      "|     review_id|star_rating|helpful_votes|total_votes|vine|verified_purchase|     percent_votes|\n",
      "+--------------+-----------+-------------+-----------+----+-----------------+------------------+\n",
      "|R1FBO737KD9F2N|          5|           19|         23|   N|                Y|0.8260869565217391|\n",
      "|R227GSNWI6BSZV|          1|           20|         20|   N|                Y|               1.0|\n",
      "|R3SJTYZBYBG4EE|          4|           99|         99|   N|                Y|               1.0|\n",
      "|R248FG65D76D5Y|          1|           42|         53|   N|                Y|0.7924528301886793|\n",
      "|R3B6BXFKGW52SG|          1|           32|         32|   N|                Y|               1.0|\n",
      "| ROTIV4VYL31R4|          5|           26|         26|   N|                Y|               1.0|\n",
      "|R3VQ59LD2LSKY7|          5|           20|         25|   N|                Y|               0.8|\n",
      "| RIIGLD8JB7PX8|          1|           32|         35|   N|                Y|0.9142857142857143|\n",
      "|R3MUBV21QV0IJK|          3|           77|         84|   N|                Y|0.9166666666666666|\n",
      "|R1V5W0X6BKIJYA|          5|          129|        132|   N|                Y|0.9772727272727273|\n",
      "|R274AKHXHYGIN6|          5|           87|        100|   N|                N|              0.87|\n",
      "| R88RERIQDYDT5|          2|           17|         26|   N|                N|0.6538461538461539|\n",
      "| RLYK7DY9F6RUP|          4|           17|         20|   N|                Y|              0.85|\n",
      "|R3T31I7IKQ5LFQ|          3|           52|         55|   N|                Y|0.9454545454545454|\n",
      "| RZETLPHZJFYB8|          5|           23|         24|   N|                Y|0.9583333333333334|\n",
      "|R1BG5NL9AX68QE|          1|           23|         29|   N|                Y|0.7931034482758621|\n",
      "|R1Y05HDL2AWCSA|          5|          140|        145|   N|                Y|0.9655172413793104|\n",
      "|R20EPERDBI56K8|          1|           30|         37|   N|                Y|0.8108108108108109|\n",
      "| RPTN47ZNQBPWE|          5|           20|         24|   N|                Y|0.8333333333333334|\n",
      "|R3VJ8U3A8MT8II|          5|           17|         21|   N|                Y|0.8095238095238095|\n",
      "+--------------+-----------+-------------+-----------+----+-----------------+------------------+\n",
      "only showing top 20 rows\n",
      "\n"
     ]
    }
   ],
   "source": [
    "# Step 4: Retrieves all the rows where the review was not part of the Vine program (unpaid)\n",
    "non_paid_df = percent_votes_df.filter(col(\"vine\") == \"N\").show()"
   ]
  },
  {
   "cell_type": "code",
   "execution_count": 53,
   "metadata": {
    "colab": {
     "base_uri": "https://localhost:8080/"
    },
    "id": "VhbF5KDP2WRW",
    "outputId": "0b6d9071-57de-4fd0-c6dc-fa19d37c7bad"
   },
   "outputs": [
    {
     "name": "stdout",
     "output_type": "stream",
     "text": [
      "+----+-------------+--------------------+-----------------+\n",
      "|vine|Total_Reviews|Total_5_Star_Reviews|%_5_Star_To_Total|\n",
      "+----+-------------+--------------------+-----------------+\n",
      "|   Y|         1080|                 454|42.03703703703704|\n",
      "|   N|        49673|               23043| 46.3893865882874|\n",
      "+----+-------------+--------------------+-----------------+\n",
      "\n"
     ]
    }
   ],
   "source": [
    "# Step 5: Determine the total number of reviews, the number of 5-star reviews, and the percentage of 5-star reviews for the two types of review (paid vs unpaid).\n",
    "\n",
    "from pyspark.sql.functions import col,when,count,lit\n",
    "ratings_total_df = percent_votes_df.groupBy(\"vine\").agg(\n",
    "    count(col(\"vine\")).alias(\"Total_Reviews\"),\n",
    "    count(when(col(\"star_rating\") == 5, True)).alias(\"Total_5_Star_Reviews\"),\n",
    "    (count(when(col(\"star_rating\") == 5, True))/count(col(\"vine\"))*100).alias(\"%_5_Star_To_Total\")).show()"
   ]
  }
 ],
 "metadata": {
  "colab": {
   "collapsed_sections": [],
   "name": "Vine_Review_Analysis.ipynb",
   "provenance": []
  },
  "kernelspec": {
   "display_name": "Python 3 (ipykernel)",
   "language": "python",
   "name": "python3"
  },
  "language_info": {
   "codemirror_mode": {
    "name": "ipython",
    "version": 3
   },
   "file_extension": ".py",
   "mimetype": "text/x-python",
   "name": "python",
   "nbconvert_exporter": "python",
   "pygments_lexer": "ipython3",
   "version": "3.7.11"
  }
 },
 "nbformat": 4,
 "nbformat_minor": 1
}
